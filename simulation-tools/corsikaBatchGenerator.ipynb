{
 "cells": [
  {
   "attachments": {},
   "cell_type": "markdown",
   "id": "ece2d30c",
   "metadata": {},
   "source": [
    "# corsikaBatchGenerator\n",
    "Generates corsika input files for runs to be done in parallel\n",
    "\n",
    "Author: Nik Korzoun"
   ]
  },
  {
   "attachments": {},
   "cell_type": "markdown",
   "id": "373ce556",
   "metadata": {},
   "source": [
    "## Corsika Userguide\n",
    "For looking at keywords\n",
    "https://web.iap.kit.edu/corsika/usersguide/usersguide.pdf"
   ]
  },
  {
   "attachments": {},
   "cell_type": "markdown",
   "id": "d1106fd2",
   "metadata": {},
   "source": [
    "## Input template\n",
    "adjustments will be made by the script to this default template when iterating"
   ]
  },
  {
   "cell_type": "markdown",
   "id": "90b56506",
   "metadata": {},
   "source": [
    "### PANOSETI"
   ]
  },
  {
   "cell_type": "code",
   "execution_count": 11,
   "id": "d2f2d36b",
   "metadata": {},
   "outputs": [],
   "source": [
    "inptemp='''RUNNR 1\n",
    "EVTNR 1\n",
    "NSHOW 1\n",
    "PRMPAR 1\n",
    "ERANGE 1E5 1E5\n",
    "ESLOPE -2.5\n",
    "THETAP 0. 60.\n",
    "PHIP 0. 360.\n",
    "SEED 200 0 0\n",
    "SEED 202 0 0\n",
    "SEED 204 0 0\n",
    "SEED 206 0 0\n",
    "ATMOD 1\n",
    "MAGNET 25.2 40.88\n",
    "ARRANG 12.77\n",
    "ELMFLG F T\n",
    "RADNKG 200.E2\n",
    "FIXCHI 0.\n",
    "HADFLG 0 0 0 0 0 2\n",
    "QGSJET T 0\n",
    "QGSSIG T\n",
    "HILOW 100.\n",
    "ECUTS 0.30 0.05 0.02 0.02\n",
    "MUADDI F\n",
    "MUMULT T\n",
    "LONGI T 20. F F\n",
    "MAXPRT 50\n",
    "PAROUT F F\n",
    "ECTMAP 1.E6\n",
    "DEBUG F 6 F 1000000\n",
    "DIRECT ./\n",
    "USER user\n",
    "HOST host\n",
    "ATMOSPHERE 61 T\n",
    "TELFIL ./DATbatch0.telescope\n",
    "OBSLEV 1239.E2\n",
    "CSCAT 1 200.E2 200.E2\n",
    "CERFIL 0\n",
    "CERSIZ 5.\n",
    "CWAVLG 200. 700.\n",
    "TELESCOPE 53.59E2 73.52E2 1E2 0.25E2\n",
    "TELESCOPE 53.59E2 -80.48E2 1E2 0.25E2\n",
    "TELESCOPE -107.18E2 6.95E2 1E2 0.25E2\n",
    "EXIT'''"
   ]
  },
  {
   "attachments": {},
   "cell_type": "markdown",
   "id": "2d0c3857",
   "metadata": {},
   "source": [
    "## Helper functions"
   ]
  },
  {
   "cell_type": "code",
   "execution_count": 12,
   "id": "fd55f9e8",
   "metadata": {},
   "outputs": [],
   "source": [
    "# definition of line number in inp from keyword\n",
    "keyword = {\n",
    "    \"EVTNR\": 1,\n",
    "    \"NSHOW\": 2,\n",
    "    \"PRMPAR\":3,\n",
    "    \"ERANGE\": 4,\n",
    "    \"THETAP\": 6,\n",
    "    \"PHIP\": 7,\n",
    "    \"SEED1\": 8,\n",
    "    \"SEED2\": 9,\n",
    "    \"SEED3\": 10,\n",
    "    \"SEED4\": 11,\n",
    "    \"TELFIL\": 34,\n",
    "    \"OBSLEV\": 35,\n",
    "    \"CSCAT\": 36,\n",
    "    \"CERSIZ\": 38,\n",
    "    \"TELESCOPE\": 40\n",
    "}"
   ]
  },
  {
   "cell_type": "code",
   "execution_count": 13,
   "id": "225acd75",
   "metadata": {},
   "outputs": [],
   "source": [
    "def makeInput(*args):\n",
    "    \"\"\"\n",
    "    Generates the input for a single corsika run\n",
    "    \n",
    "    Parameters:\n",
    "         *args -- lists of line number and replacement string for the input template\n",
    "             i.e. [ [line1, replacementString1], [line2,replacementString2], ... ]\n",
    "             If Null, returns the input template\n",
    "        \n",
    "    Returns:\n",
    "        inp -- string with contents of corsika input file\n",
    "        \n",
    "    \"\"\"\n",
    "    # set input to template\n",
    "    inp = inptemp\n",
    "    \n",
    "    # check *args not null\n",
    "    if (args):\n",
    "        lines = inp.splitlines()\n",
    "        for arg in args:\n",
    "            lines[arg[0]] = arg[1]\n",
    "        inp = \"\\n\".join(lines)\n",
    "    return inp"
   ]
  },
  {
   "cell_type": "code",
   "execution_count": 14,
   "id": "9f2be7c4",
   "metadata": {},
   "outputs": [],
   "source": [
    "def writeInput(filename, contents):\n",
    "    \"\"\"\n",
    "    Writes contents into a file.\n",
    "\n",
    "    Parameters:\n",
    "        filename -- name of the file to write to\n",
    "        contents -- string to write into the file\n",
    "        \n",
    "    \n",
    "    \"\"\"\n",
    "    file = open(\"{}\".format(filename), \"w\")\n",
    "    file.write(contents)\n",
    "    file.close()"
   ]
  },
  {
   "attachments": {},
   "cell_type": "markdown",
   "id": "5e3e8a7b",
   "metadata": {},
   "source": [
    "## Generate runs"
   ]
  },
  {
   "cell_type": "code",
   "execution_count": 15,
   "id": "adde9c5a",
   "metadata": {},
   "outputs": [],
   "source": [
    "def genRuns(index, controller):\n",
    "    \"\"\"\n",
    "    Writes corsika input files.\n",
    "\n",
    "    Parameters:\n",
    "        index -- index of the first corsika input file generated\n",
    "        controller -- list of corsika input keywords to adjust \n",
    "                    see example in the 'input controller' notebook cell\n",
    "        \n",
    "    \n",
    "    \"\"\" \n",
    "    # check there is no invalid keyword (has a definition in the dictionary)\n",
    "    for item in controller:\n",
    "        if (item[0] not in keyword):\n",
    "            e ='{} is not valid keyword. Update keyword dictionary or change controller.'.format(item[0])\n",
    "            return e\n",
    "    \n",
    "        # check lists of each argument is the same size for each individual keyword\n",
    "        size = len(item[1])\n",
    "        for i in range(1,len(item)):\n",
    "            if (size != len(item[i]) ):\n",
    "                e='Mismatch in number of values for arguments in keyword {}. Fix controller.'.format(item[0])\n",
    "                return e\n",
    "    \n",
    "    # check lists of each argument is the same size among all keywords (do not include nested keywords), \n",
    "    nVals = len(controller[-1][-1]) \n",
    "    if (nVals == 0):\n",
    "        e = '0 arguments found in controller.'\n",
    "        return e\n",
    "    \n",
    "    for item in controller:\n",
    "        if (len(item[-1]) != nVals):       \n",
    "            e = 'Mismatch in number of values among keywords. Fix controller.'\n",
    "            return e\n",
    "    \n",
    "    # write input files\n",
    "    for i in range(0, nVals):\n",
    "        contents = []\n",
    "        for item in controller:\n",
    "            nArgs = len(item)\n",
    "            replacementString = item[0]\n",
    "            if('SEED' in replacementString):\n",
    "                replacementString = 'SEED'\n",
    "            for j in range(1,nArgs):\n",
    "                replacementString += ' '\n",
    "                replacementString += item[j][i]\n",
    "\n",
    "            line = keyword[item[0]]\n",
    "            contents.append([line,replacementString])\n",
    "        \n",
    "        # increment TELFIL name\n",
    "        contents.append([keyword[\"TELFIL\"],'TELFIL ./DATbatch{}.telescope'.format(index)])\n",
    "        inp = makeInput(*contents)\n",
    "        filename = 'batch{}.inp'.format(index)\n",
    "        writeInput(filename, inp)\n",
    "        index += 1\n",
    "        \n",
    "    return 'Created {} input files'.format(nVals)"
   ]
  },
  {
   "attachments": {},
   "cell_type": "markdown",
   "id": "2cbe88b0",
   "metadata": {},
   "source": [
    "### Input controllers\n",
    "Tunes parameters to be adjusted and lists the values each argument will take"
   ]
  },
  {
   "cell_type": "code",
   "execution_count": 16,
   "id": "3614dcaa",
   "metadata": {},
   "outputs": [],
   "source": [
    "# Format:\n",
    "\n",
    "\n",
    "# controller = [\n",
    "#     [keyword1, [arg1_val1, arg1_val2, ...], [arg2_val1, arg2_val2, ...], ...],\n",
    "#     [keyword2, [arg1_val1, arg1_val2, ...], ...],\n",
    "#     [keyword3, [arg1_val1, arg1_val2, ...], [arg2_val1, arg2_val2, ...], [arg3_val1, arg3_val2, ...], ...]\n",
    "# ]\n",
    "\n",
    "\n",
    "# Example:\n",
    "\n",
    "# controller = [\n",
    "#     ['ERANGE',['1E3','1E4','1E5'],['1E3','1E4','1E5']],\n",
    "#     ['CSCAT', ['1','1','1'], ['0.','0.','0.'] ['0.','0.','0.']]\n",
    "# ]\n",
    "\n",
    "# This will create 3 input files. \n",
    "\n",
    "# Notice that CSCAT is being kept constant but needs to have the same number of values for each argument\n",
    "# as the other keywords. For this reason, it is easier to adjust CSCAT in the template rather than in\n",
    "# the controller. This is particularly useful for the TELESCOPE line."
   ]
  },
  {
   "cell_type": "code",
   "execution_count": 17,
   "id": "81df0e34",
   "metadata": {
    "scrolled": false
   },
   "outputs": [],
   "source": [
    "#controller = [\n",
    "#    ['ERANGE',\n",
    "#     ['1E3','3E3','5E3','1E4','3E4','5E4','1E5'],\n",
    "#     ['1E3','3E3','5E3','1E4','3E4','5E4','1E5']\n",
    "#    ],\n",
    "#    ['SEED1',\n",
    "#     ['200','208','216','224','232','240','248'],\n",
    "#     ['0','0','0','0','0','0','0'],\n",
    "#     ['0','0','0','0','0','0','0']\n",
    "#    ],\n",
    "#    ['SEED2',\n",
    "#     ['202','210','218','226','234','242','250'],\n",
    "#     ['0','0','0','0','0','0','0'],\n",
    "#     ['0','0','0','0','0','0','0']\n",
    "#    ],\n",
    "#    ['SEED3',\n",
    "#     ['204','212','220','228','236','244','252'],\n",
    "#     ['0','0','0','0','0','0','0'],\n",
    "#     ['0','0','0','0','0','0','0']\n",
    "#    ],\n",
    "#    ['SEED4',\n",
    "#     ['206','214','222','230','238','246','254'],\n",
    "#     ['0','0','0','0','0','0','0'],\n",
    "#     ['0','0','0','0','0','0','0']\n",
    "#    ]\n",
    "#]"
   ]
  },
  {
   "cell_type": "code",
   "execution_count": 18,
   "id": "52d1a3da",
   "metadata": {},
   "outputs": [],
   "source": [
    "#controller = [\n",
    "#    ['CSCAT',\n",
    "#     ['10', '10', '10', '10', '10', '10', '10', '10', '10', '10', '10', '10', '10', '10'],\n",
    "#     ['41000', '44000', '47000', '50000', '53000', '56000', '59000', '62000', '65000', '68000', '71000', '74000', '77000', '80000'],\n",
    "#     ['41000', '44000', '47000', '50000', '53000', '56000', '59000', '62000', '65000', '68000', '71000', '74000', '77000', '80000']\n",
    "#    ]\n",
    "#]"
   ]
  },
  {
   "cell_type": "code",
   "execution_count": 19,
   "id": "5b9b20dc",
   "metadata": {},
   "outputs": [],
   "source": [
    "import numpy as np\n",
    "\n",
    "nFiles=10 #number of input files\n",
    "nShow=1 #number of showers per run\n",
    "\n",
    "\n",
    "seed1=['{}'.format(np.random.randint(0,9999)) for i in range(nFiles)]\n",
    "seed2=['{}'.format(np.random.randint(0,9999)) for i in range(nFiles)]\n",
    "seed3=['{}'.format(np.random.randint(0,9999)) for i in range(nFiles)]\n",
    "seed4=['{}'.format(np.random.randint(0,9999)) for i in range(nFiles)]\n",
    "\n",
    "controller = [\n",
    "    ['EVTNR',[str(x) for x in range(1,(nFiles*nShow)+1,nShow)]],\n",
    "    ['SEED1',seed1,[str(0) for x in range(nFiles)],[str(0) for x in range(nFiles)]],\n",
    "    ['SEED2',seed2,[str(0) for x in range(nFiles)],[str(0) for x in range(nFiles)]],\n",
    "    ['SEED3',seed3,[str(0) for x in range(nFiles)],[str(0) for x in range(nFiles)]],\n",
    "    ['SEED4',seed4,[str(0) for x in range(nFiles)],[str(0) for x in range(nFiles)]]\n",
    "]\n",
    "\n",
    "# nFiles runs, nShow showers each run, change seed each file\n",
    "# make sure NSHOW in the template file agrees with nShow above"
   ]
  },
  {
   "cell_type": "code",
   "execution_count": 20,
   "id": "5b3acc5b",
   "metadata": {},
   "outputs": [
    {
     "data": {
      "text/plain": [
       "'Created 10 input files'"
      ]
     },
     "execution_count": 20,
     "metadata": {},
     "output_type": "execute_result"
    }
   ],
   "source": [
    "genRuns(1, controller)"
   ]
  }
 ],
 "metadata": {
  "kernelspec": {
   "display_name": "panoseti",
   "language": "python",
   "name": "python3"
  },
  "language_info": {
   "codemirror_mode": {
    "name": "ipython",
    "version": 3
   },
   "file_extension": ".py",
   "mimetype": "text/x-python",
   "name": "python",
   "nbconvert_exporter": "python",
   "pygments_lexer": "ipython3",
   "version": "3.11.9"
  }
 },
 "nbformat": 4,
 "nbformat_minor": 5
}
