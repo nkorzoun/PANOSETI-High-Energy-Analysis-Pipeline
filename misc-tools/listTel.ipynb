{
 "cells": [
  {
   "cell_type": "markdown",
   "id": "68b1353d",
   "metadata": {},
   "source": [
    "# listTel\n",
    "Generates list of telescope positions to copy/paste into corsika input\n",
    "\n",
    "Author: Nik Korzoun"
   ]
  },
  {
   "cell_type": "code",
   "execution_count": 1,
   "id": "753480e2",
   "metadata": {},
   "outputs": [],
   "source": [
    "# range (m)\n",
    "R = 400\n",
    "# intertelescope distance (cm)\n",
    "d = 500\n",
    "\n",
    "# make sure telescopes dont overlap\n",
    "overlap = d*2<=50\n",
    "# make sure not to reach corsika telescope limit\n",
    "N = 100*R/d +1\n",
    "telLim = N > 999"
   ]
  },
  {
   "cell_type": "code",
   "execution_count": 2,
   "id": "6d8f1090",
   "metadata": {},
   "outputs": [
    {
     "name": "stdout",
     "output_type": "stream",
     "text": [
      "TELESCOPE 0. 0. 0. 25.\n",
      "TELESCOPE 500. 0. 0. 25.\n",
      "TELESCOPE 1000. 0. 0. 25.\n",
      "TELESCOPE 1500. 0. 0. 25.\n",
      "TELESCOPE 2000. 0. 0. 25.\n",
      "TELESCOPE 2500. 0. 0. 25.\n",
      "TELESCOPE 3000. 0. 0. 25.\n",
      "TELESCOPE 3500. 0. 0. 25.\n",
      "TELESCOPE 4000. 0. 0. 25.\n",
      "TELESCOPE 4500. 0. 0. 25.\n",
      "TELESCOPE 5000. 0. 0. 25.\n",
      "TELESCOPE 5500. 0. 0. 25.\n",
      "TELESCOPE 6000. 0. 0. 25.\n",
      "TELESCOPE 6500. 0. 0. 25.\n",
      "TELESCOPE 7000. 0. 0. 25.\n",
      "TELESCOPE 7500. 0. 0. 25.\n",
      "TELESCOPE 8000. 0. 0. 25.\n",
      "TELESCOPE 8500. 0. 0. 25.\n",
      "TELESCOPE 9000. 0. 0. 25.\n",
      "TELESCOPE 9500. 0. 0. 25.\n",
      "TELESCOPE 10000. 0. 0. 25.\n",
      "TELESCOPE 10500. 0. 0. 25.\n",
      "TELESCOPE 11000. 0. 0. 25.\n",
      "TELESCOPE 11500. 0. 0. 25.\n",
      "TELESCOPE 12000. 0. 0. 25.\n",
      "TELESCOPE 12500. 0. 0. 25.\n",
      "TELESCOPE 13000. 0. 0. 25.\n",
      "TELESCOPE 13500. 0. 0. 25.\n",
      "TELESCOPE 14000. 0. 0. 25.\n",
      "TELESCOPE 14500. 0. 0. 25.\n",
      "TELESCOPE 15000. 0. 0. 25.\n",
      "TELESCOPE 15500. 0. 0. 25.\n",
      "TELESCOPE 16000. 0. 0. 25.\n",
      "TELESCOPE 16500. 0. 0. 25.\n",
      "TELESCOPE 17000. 0. 0. 25.\n",
      "TELESCOPE 17500. 0. 0. 25.\n",
      "TELESCOPE 18000. 0. 0. 25.\n",
      "TELESCOPE 18500. 0. 0. 25.\n",
      "TELESCOPE 19000. 0. 0. 25.\n",
      "TELESCOPE 19500. 0. 0. 25.\n",
      "TELESCOPE 20000. 0. 0. 25.\n",
      "TELESCOPE 20500. 0. 0. 25.\n",
      "TELESCOPE 21000. 0. 0. 25.\n",
      "TELESCOPE 21500. 0. 0. 25.\n",
      "TELESCOPE 22000. 0. 0. 25.\n",
      "TELESCOPE 22500. 0. 0. 25.\n",
      "TELESCOPE 23000. 0. 0. 25.\n",
      "TELESCOPE 23500. 0. 0. 25.\n",
      "TELESCOPE 24000. 0. 0. 25.\n",
      "TELESCOPE 24500. 0. 0. 25.\n",
      "TELESCOPE 25000. 0. 0. 25.\n",
      "TELESCOPE 25500. 0. 0. 25.\n",
      "TELESCOPE 26000. 0. 0. 25.\n",
      "TELESCOPE 26500. 0. 0. 25.\n",
      "TELESCOPE 27000. 0. 0. 25.\n",
      "TELESCOPE 27500. 0. 0. 25.\n",
      "TELESCOPE 28000. 0. 0. 25.\n",
      "TELESCOPE 28500. 0. 0. 25.\n",
      "TELESCOPE 29000. 0. 0. 25.\n",
      "TELESCOPE 29500. 0. 0. 25.\n",
      "TELESCOPE 30000. 0. 0. 25.\n",
      "TELESCOPE 30500. 0. 0. 25.\n",
      "TELESCOPE 31000. 0. 0. 25.\n",
      "TELESCOPE 31500. 0. 0. 25.\n",
      "TELESCOPE 32000. 0. 0. 25.\n",
      "TELESCOPE 32500. 0. 0. 25.\n",
      "TELESCOPE 33000. 0. 0. 25.\n",
      "TELESCOPE 33500. 0. 0. 25.\n",
      "TELESCOPE 34000. 0. 0. 25.\n",
      "TELESCOPE 34500. 0. 0. 25.\n",
      "TELESCOPE 35000. 0. 0. 25.\n",
      "TELESCOPE 35500. 0. 0. 25.\n",
      "TELESCOPE 36000. 0. 0. 25.\n",
      "TELESCOPE 36500. 0. 0. 25.\n",
      "TELESCOPE 37000. 0. 0. 25.\n",
      "TELESCOPE 37500. 0. 0. 25.\n",
      "TELESCOPE 38000. 0. 0. 25.\n",
      "TELESCOPE 38500. 0. 0. 25.\n",
      "TELESCOPE 39000. 0. 0. 25.\n",
      "TELESCOPE 39500. 0. 0. 25.\n",
      "TELESCOPE 40000. 0. 0. 25.\n"
     ]
    }
   ],
   "source": [
    "# print\n",
    "if(not telLim):\n",
    "    if(not overlap):\n",
    "        for x in range(0,100*R+1,d):\n",
    "            print(\"TELESCOPE \"+str(x)+\". 0. 0. 25.\")\n",
    "    else:\n",
    "        print(\"telescopes overlap!\")\n",
    "else:\n",
    "    print(\"corsika telescope limit reached!\")\n",
    "# TELESCOPE X Y Z R\n",
    "# all in units of cm"
   ]
  },
  {
   "cell_type": "code",
   "execution_count": 3,
   "id": "2275e0c2",
   "metadata": {},
   "outputs": [
    {
     "data": {
      "text/plain": [
       "81.0"
      ]
     },
     "execution_count": 3,
     "metadata": {},
     "output_type": "execute_result"
    }
   ],
   "source": [
    "# number of telescopes\n",
    "N"
   ]
  }
 ],
 "metadata": {
  "kernelspec": {
   "display_name": "Python 3 (ipykernel)",
   "language": "python",
   "name": "python3"
  },
  "language_info": {
   "codemirror_mode": {
    "name": "ipython",
    "version": 3
   },
   "file_extension": ".py",
   "mimetype": "text/x-python",
   "name": "python",
   "nbconvert_exporter": "python",
   "pygments_lexer": "ipython3",
   "version": "3.9.13"
  }
 },
 "nbformat": 4,
 "nbformat_minor": 5
}
