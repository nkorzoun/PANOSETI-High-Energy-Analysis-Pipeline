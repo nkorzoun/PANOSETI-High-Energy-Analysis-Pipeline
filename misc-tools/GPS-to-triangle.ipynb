{
 "cells": [
  {
   "cell_type": "markdown",
   "metadata": {},
   "source": [
    "# GPS-to-Triangle\n",
    "Take GPS coordinates and elevation to compute the lengths of a triangle"
   ]
  },
  {
   "cell_type": "markdown",
   "metadata": {},
   "source": [
    "## Imports"
   ]
  },
  {
   "cell_type": "code",
   "execution_count": 20,
   "metadata": {},
   "outputs": [],
   "source": [
    "import numpy as np"
   ]
  },
  {
   "cell_type": "markdown",
   "metadata": {},
   "source": [
    "## Distance\n",
    "from https://stackoverflow.com/questions/3694380/calculating-distance-between-two-points-using-latitude-longitude"
   ]
  },
  {
   "cell_type": "code",
   "execution_count": 21,
   "metadata": {},
   "outputs": [],
   "source": [
    "\n",
    "# Calculate distance between two points in latitude and longitude taking\n",
    "# into account height difference. If you are not interested in height\n",
    "# difference pass 0.0. Uses Haversine method as its base.\n",
    "\n",
    "# lat1, lon1 Start point lat2, lon2 End point el1 Start altitude in meters\n",
    "# el2 End altitude in meters\n",
    "# @returns Distance in Meters\n",
    "\n",
    "def distance(lat1, lon1, el1, lat2, lon2, el2):\n",
    "\n",
    "    R = 6371; # Radius of the earth km\n",
    "\n",
    "    latDistance = np.radians(lat2 - lat1)\n",
    "    lonDistance = np.radians(lon2 - lon1)\n",
    "    a = np.sin(latDistance / 2) * np.sin(latDistance / 2)   \\\n",
    "        + np.cos(np.radians(lat1)) * np.cos(np.radians(lat2))   \\\n",
    "        * np.sin(lonDistance / 2) * np.sin(lonDistance / 2)\n",
    "    c = 2 * np.arctan2(np.sqrt(a), np.sqrt(1 - a))\n",
    "    distance = R * c * 1000 # convert to meters\n",
    "\n",
    "    height = el1 - el2\n",
    "\n",
    "    distance = distance*distance + height*height\n",
    "\n",
    "    return np.sqrt(distance)"
   ]
  },
  {
   "cell_type": "code",
   "execution_count": 22,
   "metadata": {},
   "outputs": [],
   "source": [
    "# Lat, Lon, El\n",
    "Crocker = [37.34275667,-121.63870750,1282.827]\n",
    "Kron = [37.34300450,-121.63688150,1273.789]\n",
    "Dorm = [37.34157383,-121.63790850,1237.939]"
   ]
  },
  {
   "cell_type": "code",
   "execution_count": 23,
   "metadata": {},
   "outputs": [
    {
     "data": {
      "text/plain": [
       "164.00692521386787"
      ]
     },
     "execution_count": 23,
     "metadata": {},
     "output_type": "execute_result"
    }
   ],
   "source": [
    "distance(*Crocker,*Kron)"
   ]
  },
  {
   "cell_type": "code",
   "execution_count": 24,
   "metadata": {},
   "outputs": [
    {
     "data": {
      "text/plain": [
       "186.6426462124953"
      ]
     },
     "execution_count": 24,
     "metadata": {},
     "output_type": "execute_result"
    }
   ],
   "source": [
    "distance(*Kron,*Dorm)"
   ]
  },
  {
   "cell_type": "code",
   "execution_count": 25,
   "metadata": {},
   "outputs": [
    {
     "data": {
      "text/plain": [
       "155.8946192600669"
      ]
     },
     "execution_count": 25,
     "metadata": {},
     "output_type": "execute_result"
    }
   ],
   "source": [
    "distance(*Dorm,*Crocker)"
   ]
  }
 ],
 "metadata": {
  "kernelspec": {
   "display_name": "panoseti",
   "language": "python",
   "name": "python3"
  },
  "language_info": {
   "codemirror_mode": {
    "name": "ipython",
    "version": 3
   },
   "file_extension": ".py",
   "mimetype": "text/x-python",
   "name": "python",
   "nbconvert_exporter": "python",
   "pygments_lexer": "ipython3",
   "version": "3.11.9"
  }
 },
 "nbformat": 4,
 "nbformat_minor": 2
}
