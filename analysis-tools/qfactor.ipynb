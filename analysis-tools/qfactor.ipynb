{
 "cells": [
  {
   "cell_type": "markdown",
   "metadata": {},
   "source": [
    "# qfactor\n",
    "Determine optimum distnace cut by looking at simulated data\n",
    "Author: Nik Korzoun"
   ]
  },
  {
   "cell_type": "markdown",
   "metadata": {},
   "source": [
    "# Imports"
   ]
  },
  {
   "cell_type": "code",
   "execution_count": 1,
   "metadata": {},
   "outputs": [],
   "source": [
    "# imports\n",
    "import pandas as pd\n",
    "from matplotlib import pyplot as plt\n",
    "import numpy as np\n",
    "import astropy.units as u\n",
    "from astropy.coordinates import SkyCoord"
   ]
  },
  {
   "cell_type": "markdown",
   "metadata": {},
   "source": [
    "# Read Data\n",
    "1 corresponds to gamma-rays and 2 corresponds to cosmic-rays\n",
    "\n",
    "e.g. df1 is the dataframe with gamma-ray data and df2 is the dataframe with cosmic-ray data"
   ]
  },
  {
   "cell_type": "markdown",
   "metadata": {},
   "source": [
    "## Data files"
   ]
  },
  {
   "cell_type": "code",
   "execution_count": 2,
   "metadata": {},
   "outputs": [],
   "source": [
    "# read data\n",
    "\n",
    "df1 = pd.read_csv(\"data/lick2024/MRK421-sim-gamma/data/_merged.10xSig.reconstructed.csv\")\n",
    "df2 = pd.read_csv(\"data/lick2024/MRK421-sim-proton/data/_merged.10xSig.reconstructed.csv\")\n",
    "\n",
    "# df1 = pd.read_csv(\"../triangle_data/dev/tmp/MRK421-sim-gamma/data/_merged.csv\")\n",
    "# df2 = pd.read_csv(\"../triangle_data/dev/tmp/MRK421-sim-proton/data/_merged.csv\")\n",
    "\n",
    "# df1 = pd.read_csv(\"data/lick2024_layouts_test/10TeV/layout1/data/_merged.csv\")\n",
    "# df2 = pd.read_csv(\"data/lick2024_layouts_test/10TeV/layout1_PROTONS/data/_merged.csv\")\n",
    "\n",
    "# df1 = pd.read_csv(\"data/lick2024_layouts_test/10TeV/layout2/data/_merged.csv\")\n",
    "# df2 = pd.read_csv(\"data/lick2024_layouts_test/10TeV/layout2_PROTONS/data/_merged.csv\")\n"
   ]
  },
  {
   "cell_type": "markdown",
   "metadata": {},
   "source": [
    "## Cleaning data"
   ]
  },
  {
   "cell_type": "code",
   "execution_count": 3,
   "metadata": {},
   "outputs": [],
   "source": [
    "# remove nans\n",
    "array1=df1.dropna(subset=[\"Length\", \"Width\",\"Miss\",\"Distance\",\"Azwidth\",\"Alpha\"])\n",
    "array1=array1[array1[\"Width\"]>0]\n",
    "#array1.head()\n",
    "\n",
    "array2=df2.dropna(subset=[\"Length\", \"Width\",\"Miss\",\"Distance\",\"Azwidth\",\"Alpha\"])\n",
    "array2=array2[array2[\"Width\"]>0]\n",
    "#array2.head()"
   ]
  },
  {
   "cell_type": "markdown",
   "metadata": {},
   "source": [
    "# Defining Cuts"
   ]
  },
  {
   "cell_type": "markdown",
   "metadata": {},
   "source": [
    "## Ntel"
   ]
  },
  {
   "cell_type": "code",
   "execution_count": 4,
   "metadata": {},
   "outputs": [],
   "source": [
    "# cut by number of telescopes\n",
    "NTel=2\n",
    "array1 = array1.groupby('Event', group_keys=False).filter(lambda x: len(x) >= NTel)\n",
    "array2 = array2.groupby('Event', group_keys=False).filter(lambda x: len(x) >= NTel)"
   ]
  },
  {
   "cell_type": "markdown",
   "metadata": {},
   "source": [
    "## Max Distance"
   ]
  },
  {
   "cell_type": "code",
   "execution_count": 5,
   "metadata": {},
   "outputs": [],
   "source": [
    "# create max distance parameter\n",
    "max1 = array1.groupby(['Event'])['Distance'].transform('max') == array1['Distance']\n",
    "max_distance1= array1.loc[max1, ['Event', 'Distance']]\n",
    "array1['MaxDistance']=max_distance1.Distance\n",
    "max2 = array2.groupby(['Event'])['Distance'].transform('max') == array2['Distance']\n",
    "max_distance2= array2.loc[max2, ['Event', 'Distance']]\n",
    "array2['MaxDistance']=max_distance2.Distance\n"
   ]
  },
  {
   "cell_type": "markdown",
   "metadata": {},
   "source": [
    "## Theta Squared"
   ]
  },
  {
   "cell_type": "code",
   "execution_count": 6,
   "metadata": {},
   "outputs": [],
   "source": [
    "def plotPSF(dataframe=df1, title=\"Photon Events\", angle_range=(0,10), core_range=(0,200),threshold=10000):\n",
    "\n",
    "    # energy threshold\n",
    "    dataframe=dataframe[dataframe[\"TrueEnergy\"]>threshold]\n",
    "\n",
    "    data1 = dataframe.dropna(subset=[\"Az\",\"Ze\"]).drop_duplicates(subset=\"Event\")\n",
    "    c1 = SkyCoord(az=data1[\"Az\"].values*u.deg, alt=(90-data1[\"Ze\"].values)*u.deg, frame='altaz')\n",
    "    c2 = SkyCoord(az=0*u.deg, alt=90*u.deg,frame='altaz')\n",
    "    angle1=pd.DataFrame(c1.separation(c2).deg)\n",
    "    core1 = pd.DataFrame(np.abs(np.hypot(data1[\"Xcore\"].values,data1[\"Ycore\"].values)-np.hypot(data1[\"TrueXcore\"].values,data1[\"TrueYcore\"].values)))\n",
    "\n",
    "    data2 = dataframe.dropna(subset=[\"Az\",\"Ze\"]).dropna(subset=\"Alpha\")\n",
    "    data2 = data2.groupby('Event', group_keys=False).filter(lambda x: len(x) > 2).drop_duplicates(subset=\"Event\") #require more than 2 telescopes\n",
    "    c1 = SkyCoord(az=data2[\"Az\"].values*u.deg, alt=(90-data2[\"Ze\"].values)*u.deg, frame='altaz')\n",
    "    c2 = SkyCoord(az=0*u.deg, alt=90*u.deg,frame='altaz')\n",
    "    angle2=pd.DataFrame(c1.separation(c2).deg)\n",
    "    core2 = pd.DataFrame(np.abs(np.hypot(data2[\"Xcore\"].values,data2[\"Ycore\"].values)-np.hypot(data2[\"TrueXcore\"].values,data2[\"TrueYcore\"].values)))\n",
    "\n",
    "    fig, axs = plt.subplots(1,2, figsize=(9,5))\n",
    "    fig.suptitle(title)\n",
    "\n",
    "    axs[0].set_xlabel(r'Squared Angular Error [degrees$^2$]')\n",
    "    axs[0].set_ylabel('Entries')\n",
    "    axs[0].hist(angle1*angle1, alpha=0.3, bins = 50, range=angle_range,label = 'at least 2 telescopes' )\n",
    "    axs[0].hist(angle2*angle2, alpha=0.5, bins = 50, range=angle_range,label = '3 telescopes' )\n",
    "\n",
    "    axs[1].set_xlabel('Core Error [m]')\n",
    "    axs[1].set_ylabel('Entries')\n",
    "    axs[1].hist(core1, alpha=0.3, bins = 50, range=core_range,label = 'at least 2 telescopes')\n",
    "    axs[1].hist(core2, alpha=0.5, bins = 50, range=core_range,label = '3 telescopes')\n",
    "\n",
    "    handles, labels = axs[0].get_legend_handles_labels()\n",
    "\n",
    "    fig.legend(handles, labels,loc=(0.39,0.82))\n",
    "    fig.tight_layout(rect=[0,0.01,1,0.90])\n",
    "\n",
    "    return fig, angle1, core1, angle2, core2\n"
   ]
  },
  {
   "cell_type": "code",
   "execution_count": 7,
   "metadata": {},
   "outputs": [
    {
     "name": "stderr",
     "output_type": "stream",
     "text": [
      "/tmp/ipykernel_1155244/4146965544.py:3: UserWarning: FigureCanvasAgg is non-interactive, and thus cannot be shown\n",
      "  fig.show();\n"
     ]
    },
    {
     "name": "stdout",
     "output_type": "stream",
     "text": [
      "====== At least 2 Telescopes ======\n",
      "Angular Error 68% value: 0.32214 degrees, N=2183\n",
      "Core Reconstruction 68% value: 29.78236 m, N=2183\n",
      "====== 3 Telescopes ======\n",
      "Angular Error 68% value: 0.18813 degrees, N=671\n",
      "Core Reconstruction 68% value: 23.97873 m, N=671\n"
     ]
    },
    {
     "data": {
      "image/png": "[encoded data removed]",
      "text/plain": [
       "<Figure size 900x500 with 2 Axes>"
      ]
     },
     "metadata": {},
     "output_type": "display_data"
    }
   ],
   "source": [
    "fig, angle1, core1, angle2, core2 = plotPSF(df1, \"Simulated Photon Events\", (0,0.1),(0,100))\n",
    "\n",
    "fig.show();\n",
    "\n",
    "print(\"====== At least 2 Telescopes ======\")\n",
    "print(\"Angular Error 68% value: {:.5f} degrees, N={}\".format(angle1[0].quantile(0.68), angle1[0].count()))\n",
    "print(\"Core Reconstruction 68% value: {:.5f} m, N={}\".format(core1[0].quantile(0.68),core1[0].count()))\n",
    "\n",
    "print(\"====== 3 Telescopes ======\")\n",
    "print(\"Angular Error 68% value: {:.5f} degrees, N={}\".format(angle2[0].quantile(0.68), angle2[0].count()))\n",
    "print(\"Core Reconstruction 68% value: {:.5f} m, N={}\".format(core2[0].quantile(0.68),core2[0].count()))"
   ]
  },
  {
   "cell_type": "code",
   "execution_count": 8,
   "metadata": {},
   "outputs": [],
   "source": [
    "c1 = SkyCoord(az=array1[\"Az\"].values*u.deg, alt=(90-array1[\"Ze\"].values)*u.deg, frame='altaz')\n",
    "c2 = SkyCoord(az=0*u.deg, alt=90*u.deg,frame='altaz')\n",
    "angle1=pd.DataFrame(c1.separation(c2).deg)\n",
    "sqr1=angle1*angle1\n",
    "array1['ThetaSquare']=sqr1.values\n",
    "\n",
    "c1 = SkyCoord(az=array2[\"Az\"].values*u.deg, alt=(90-array2[\"Ze\"].values)*u.deg, frame='altaz')\n",
    "c2 = SkyCoord(az=0*u.deg, alt=90*u.deg,frame='altaz')\n",
    "angle2=pd.DataFrame(c1.separation(c2).deg)\n",
    "sqr2=angle2*angle2\n",
    "array2['ThetaSquare']=sqr2.values"
   ]
  },
  {
   "cell_type": "code",
   "execution_count": 9,
   "metadata": {},
   "outputs": [
    {
     "data": {
      "text/html": [
       "<div>\n",
       "<style scoped>\n",
       "    .dataframe tbody tr th:only-of-type {\n",
       "        vertical-align: middle;\n",
       "    }\n",
       "\n",
       "    .dataframe tbody tr th {\n",
       "        vertical-align: top;\n",
       "    }\n",
       "\n",
       "    .dataframe thead th {\n",
       "        text-align: right;\n",
       "    }\n",
       "</style>\n",
       "<table border=\"1\" class=\"dataframe\">\n",
       "  <thead>\n",
       "    <tr style=\"text-align: right;\">\n",
       "      <th></th>\n",
       "      <th>Event</th>\n",
       "      <th>Telescope</th>\n",
       "      <th>MeanX</th>\n",
       "      <th>StdX</th>\n",
       "      <th>MeanY</th>\n",
       "      <th>StdY</th>\n",
       "      <th>Phi</th>\n",
       "      <th>Size</th>\n",
       "      <th>Length</th>\n",
       "      <th>Width</th>\n",
       "      <th>...</th>\n",
       "      <th>Xcore</th>\n",
       "      <th>Ycore</th>\n",
       "      <th>stdP</th>\n",
       "      <th>TrueAz</th>\n",
       "      <th>TrueZe</th>\n",
       "      <th>TrueXcore</th>\n",
       "      <th>TrueYcore</th>\n",
       "      <th>TrueEnergy</th>\n",
       "      <th>MaxDistance</th>\n",
       "      <th>ThetaSquare</th>\n",
       "    </tr>\n",
       "  </thead>\n",
       "  <tbody>\n",
       "    <tr>\n",
       "      <th>count</th>\n",
       "      <td>694.000000</td>\n",
       "      <td>694.000000</td>\n",
       "      <td>694.000000</td>\n",
       "      <td>694.000000</td>\n",
       "      <td>694.000000</td>\n",
       "      <td>694.000000</td>\n",
       "      <td>694.000000</td>\n",
       "      <td>694.000000</td>\n",
       "      <td>694.000000</td>\n",
       "      <td>694.000000</td>\n",
       "      <td>...</td>\n",
       "      <td>694.000000</td>\n",
       "      <td>694.000000</td>\n",
       "      <td>6.940000e+02</td>\n",
       "      <td>694.0</td>\n",
       "      <td>694.0</td>\n",
       "      <td>694.000000</td>\n",
       "      <td>694.000000</td>\n",
       "      <td>694.000000</td>\n",
       "      <td>309.000000</td>\n",
       "      <td>694.000000</td>\n",
       "    </tr>\n",
       "    <tr>\n",
       "      <th>mean</th>\n",
       "      <td>51027.854467</td>\n",
       "      <td>1.969741</td>\n",
       "      <td>-0.014576</td>\n",
       "      <td>0.313918</td>\n",
       "      <td>-0.166323</td>\n",
       "      <td>0.321299</td>\n",
       "      <td>168.955082</td>\n",
       "      <td>3914.201729</td>\n",
       "      <td>0.402932</td>\n",
       "      <td>0.216754</td>\n",
       "      <td>...</td>\n",
       "      <td>6.210780</td>\n",
       "      <td>36.547315</td>\n",
       "      <td>8.493143e-01</td>\n",
       "      <td>0.0</td>\n",
       "      <td>0.0</td>\n",
       "      <td>-7.742930</td>\n",
       "      <td>4.805099</td>\n",
       "      <td>106786.114553</td>\n",
       "      <td>4.042428</td>\n",
       "      <td>28.965353</td>\n",
       "    </tr>\n",
       "    <tr>\n",
       "      <th>std</th>\n",
       "      <td>28773.411559</td>\n",
       "      <td>0.807937</td>\n",
       "      <td>2.599020</td>\n",
       "      <td>0.135507</td>\n",
       "      <td>2.652793</td>\n",
       "      <td>0.145062</td>\n",
       "      <td>137.037782</td>\n",
       "      <td>6612.134979</td>\n",
       "      <td>0.168006</td>\n",
       "      <td>0.060081</td>\n",
       "      <td>...</td>\n",
       "      <td>253.453792</td>\n",
       "      <td>728.768120</td>\n",
       "      <td>3.953257e+00</td>\n",
       "      <td>0.0</td>\n",
       "      <td>0.0</td>\n",
       "      <td>89.232111</td>\n",
       "      <td>94.232221</td>\n",
       "      <td>144118.733400</td>\n",
       "      <td>1.205805</td>\n",
       "      <td>117.611986</td>\n",
       "    </tr>\n",
       "    <tr>\n",
       "      <th>min</th>\n",
       "      <td>25.000000</td>\n",
       "      <td>1.000000</td>\n",
       "      <td>-4.725980</td>\n",
       "      <td>0.078815</td>\n",
       "      <td>-4.754610</td>\n",
       "      <td>0.104579</td>\n",
       "      <td>0.053447</td>\n",
       "      <td>226.000000</td>\n",
       "      <td>0.155344</td>\n",
       "      <td>0.078207</td>\n",
       "      <td>...</td>\n",
       "      <td>-1139.040000</td>\n",
       "      <td>-2806.910000</td>\n",
       "      <td>0.000000e+00</td>\n",
       "      <td>0.0</td>\n",
       "      <td>0.0</td>\n",
       "      <td>-310.311000</td>\n",
       "      <td>-270.712000</td>\n",
       "      <td>10572.000000</td>\n",
       "      <td>0.768588</td>\n",
       "      <td>0.023238</td>\n",
       "    </tr>\n",
       "    <tr>\n",
       "      <th>25%</th>\n",
       "      <td>26979.250000</td>\n",
       "      <td>1.000000</td>\n",
       "      <td>-2.078815</td>\n",
       "      <td>0.227660</td>\n",
       "      <td>-2.427653</td>\n",
       "      <td>0.225295</td>\n",
       "      <td>42.346850</td>\n",
       "      <td>900.000000</td>\n",
       "      <td>0.288220</td>\n",
       "      <td>0.169436</td>\n",
       "      <td>...</td>\n",
       "      <td>-67.612000</td>\n",
       "      <td>-71.887500</td>\n",
       "      <td>1.221403e-10</td>\n",
       "      <td>0.0</td>\n",
       "      <td>0.0</td>\n",
       "      <td>-66.936500</td>\n",
       "      <td>-51.398825</td>\n",
       "      <td>29280.600000</td>\n",
       "      <td>3.100160</td>\n",
       "      <td>5.946721</td>\n",
       "    </tr>\n",
       "    <tr>\n",
       "      <th>50%</th>\n",
       "      <td>51514.000000</td>\n",
       "      <td>2.000000</td>\n",
       "      <td>-0.089482</td>\n",
       "      <td>0.284446</td>\n",
       "      <td>-0.359200</td>\n",
       "      <td>0.290413</td>\n",
       "      <td>85.748150</td>\n",
       "      <td>1787.000000</td>\n",
       "      <td>0.359256</td>\n",
       "      <td>0.216523</td>\n",
       "      <td>...</td>\n",
       "      <td>-0.945097</td>\n",
       "      <td>-0.567662</td>\n",
       "      <td>3.210180e-09</td>\n",
       "      <td>0.0</td>\n",
       "      <td>0.0</td>\n",
       "      <td>5.821900</td>\n",
       "      <td>9.626180</td>\n",
       "      <td>54216.300000</td>\n",
       "      <td>4.126000</td>\n",
       "      <td>14.560973</td>\n",
       "    </tr>\n",
       "    <tr>\n",
       "      <th>75%</th>\n",
       "      <td>73899.000000</td>\n",
       "      <td>3.000000</td>\n",
       "      <td>2.046327</td>\n",
       "      <td>0.375556</td>\n",
       "      <td>2.073367</td>\n",
       "      <td>0.363635</td>\n",
       "      <td>311.261750</td>\n",
       "      <td>3844.500000</td>\n",
       "      <td>0.466342</td>\n",
       "      <td>0.254503</td>\n",
       "      <td>...</td>\n",
       "      <td>59.569800</td>\n",
       "      <td>66.509700</td>\n",
       "      <td>2.040630e-02</td>\n",
       "      <td>0.0</td>\n",
       "      <td>0.0</td>\n",
       "      <td>49.341300</td>\n",
       "      <td>54.582700</td>\n",
       "      <td>112691.000000</td>\n",
       "      <td>4.917610</td>\n",
       "      <td>23.624266</td>\n",
       "    </tr>\n",
       "    <tr>\n",
       "      <th>max</th>\n",
       "      <td>99484.000000</td>\n",
       "      <td>3.000000</td>\n",
       "      <td>4.773730</td>\n",
       "      <td>1.110280</td>\n",
       "      <td>4.723380</td>\n",
       "      <td>0.979923</td>\n",
       "      <td>359.262000</td>\n",
       "      <td>51003.000000</td>\n",
       "      <td>1.111330</td>\n",
       "      <td>0.513290</td>\n",
       "      <td>...</td>\n",
       "      <td>2898.200000</td>\n",
       "      <td>12740.400000</td>\n",
       "      <td>3.940270e+01</td>\n",
       "      <td>0.0</td>\n",
       "      <td>0.0</td>\n",
       "      <td>299.964000</td>\n",
       "      <td>346.941000</td>\n",
       "      <td>950843.000000</td>\n",
       "      <td>6.608890</td>\n",
       "      <td>1838.788737</td>\n",
       "    </tr>\n",
       "  </tbody>\n",
       "</table>\n",
       "<p>8 rows × 26 columns</p>\n",
       "</div>"
      ],
      "text/plain": [
       "              Event   Telescope       MeanX        StdX       MeanY  \\\n",
       "count    694.000000  694.000000  694.000000  694.000000  694.000000   \n",
       "mean   51027.854467    1.969741   -0.014576    0.313918   -0.166323   \n",
       "std    28773.411559    0.807937    2.599020    0.135507    2.652793   \n",
       "min       25.000000    1.000000   -4.725980    0.078815   -4.754610   \n",
       "25%    26979.250000    1.000000   -2.078815    0.227660   -2.427653   \n",
       "50%    51514.000000    2.000000   -0.089482    0.284446   -0.359200   \n",
       "75%    73899.000000    3.000000    2.046327    0.375556    2.073367   \n",
       "max    99484.000000    3.000000    4.773730    1.110280    4.723380   \n",
       "\n",
       "             StdY         Phi          Size      Length       Width  ...  \\\n",
       "count  694.000000  694.000000    694.000000  694.000000  694.000000  ...   \n",
       "mean     0.321299  168.955082   3914.201729    0.402932    0.216754  ...   \n",
       "std      0.145062  137.037782   6612.134979    0.168006    0.060081  ...   \n",
       "min      0.104579    0.053447    226.000000    0.155344    0.078207  ...   \n",
       "25%      0.225295   42.346850    900.000000    0.288220    0.169436  ...   \n",
       "50%      0.290413   85.748150   1787.000000    0.359256    0.216523  ...   \n",
       "75%      0.363635  311.261750   3844.500000    0.466342    0.254503  ...   \n",
       "max      0.979923  359.262000  51003.000000    1.111330    0.513290  ...   \n",
       "\n",
       "             Xcore         Ycore          stdP  TrueAz  TrueZe   TrueXcore  \\\n",
       "count   694.000000    694.000000  6.940000e+02   694.0   694.0  694.000000   \n",
       "mean      6.210780     36.547315  8.493143e-01     0.0     0.0   -7.742930   \n",
       "std     253.453792    728.768120  3.953257e+00     0.0     0.0   89.232111   \n",
       "min   -1139.040000  -2806.910000  0.000000e+00     0.0     0.0 -310.311000   \n",
       "25%     -67.612000    -71.887500  1.221403e-10     0.0     0.0  -66.936500   \n",
       "50%      -0.945097     -0.567662  3.210180e-09     0.0     0.0    5.821900   \n",
       "75%      59.569800     66.509700  2.040630e-02     0.0     0.0   49.341300   \n",
       "max    2898.200000  12740.400000  3.940270e+01     0.0     0.0  299.964000   \n",
       "\n",
       "        TrueYcore     TrueEnergy  MaxDistance  ThetaSquare  \n",
       "count  694.000000     694.000000   309.000000   694.000000  \n",
       "mean     4.805099  106786.114553     4.042428    28.965353  \n",
       "std     94.232221  144118.733400     1.205805   117.611986  \n",
       "min   -270.712000   10572.000000     0.768588     0.023238  \n",
       "25%    -51.398825   29280.600000     3.100160     5.946721  \n",
       "50%      9.626180   54216.300000     4.126000    14.560973  \n",
       "75%     54.582700  112691.000000     4.917610    23.624266  \n",
       "max    346.941000  950843.000000     6.608890  1838.788737  \n",
       "\n",
       "[8 rows x 26 columns]"
      ]
     },
     "execution_count": 9,
     "metadata": {},
     "output_type": "execute_result"
    }
   ],
   "source": [
    "array2.describe()"
   ]
  },
  {
   "cell_type": "markdown",
   "metadata": {},
   "source": [
    "# Quality Factor"
   ]
  },
  {
   "cell_type": "markdown",
   "metadata": {},
   "source": [
    "$Q=\\eta^\\gamma/\\sqrt{\\eta^N}$"
   ]
  },
  {
   "cell_type": "code",
   "execution_count": 10,
   "metadata": {},
   "outputs": [],
   "source": [
    "gamma_total=array1.Event.nunique()\n",
    "proton_total=array2.Event.nunique()"
   ]
  },
  {
   "cell_type": "code",
   "execution_count": 11,
   "metadata": {},
   "outputs": [],
   "source": [
    "def qfactor(gamma,proton):\n",
    "    num=gamma/gamma_total\n",
    "    denom=proton/proton_total\n",
    "    return num/np.sqrt(denom)"
   ]
  },
  {
   "cell_type": "markdown",
   "metadata": {},
   "source": [
    "# plot"
   ]
  },
  {
   "cell_type": "code",
   "execution_count": 12,
   "metadata": {},
   "outputs": [
    {
     "name": "stderr",
     "output_type": "stream",
     "text": [
      "/tmp/ipykernel_1155244/4243486076.py:4: RuntimeWarning: invalid value encountered in scalar divide\n",
      "  return num/np.sqrt(denom)\n",
      "/tmp/ipykernel_1155244/4243486076.py:4: RuntimeWarning: divide by zero encountered in scalar divide\n",
      "  return num/np.sqrt(denom)\n"
     ]
    },
    {
     "data": {
      "text/plain": [
       "[<matplotlib.lines.Line2D at 0x7f62927dacd0>]"
      ]
     },
     "execution_count": 12,
     "metadata": {},
     "output_type": "execute_result"
    },
    {
     "data": {
      "image/png": "[encoded data removed]",
      "text/plain": [
       "<Figure size 640x480 with 1 Axes>"
      ]
     },
     "metadata": {},
     "output_type": "display_data"
    }
   ],
   "source": [
    "d=np.linspace(0,3,10001)\n",
    "Q=np.zeros(len(d))\n",
    "\n",
    "fig,ax = plt.subplots()\n",
    "plt.xlabel('Max Distance cut (degrees)')\n",
    "plt.ylabel('Quality Factor')\n",
    "\n",
    "for i in range(len(d)):\n",
    "    # max distance cut\n",
    "    cut1=array1[array1[\"MaxDistance\"].values < d[i]]\n",
    "    cut2=array2[array2[\"MaxDistance\"].values < d[i]]    \n",
    "\n",
    "    # theta square cut\n",
    "    # cut1=cut1[cut1['ThetaSquare'] < 0.32214**2]\n",
    "    # cut2=cut2[cut2['ThetaSquare'] < 0.32214**2]\n",
    "\n",
    "    # theta square cut\n",
    "    # cut1=cut1[cut1['ThetaSquare'] < 0.38**2]\n",
    "    # cut2=cut2[cut2['ThetaSquare'] < 0.38**2]\n",
    "\n",
    "    # theta square cut\n",
    "    # cut1=cut1[cut1['ThetaSquare'] < 0.25**2]\n",
    "    # cut2=cut2[cut2['ThetaSquare'] < 0.25**2]\n",
    "\n",
    "    # calc Q factor\n",
    "    N_gamma=cut1.Event.nunique()\n",
    "    N_proton=cut2.Event.nunique()\n",
    "\n",
    "    Q[i]=qfactor(N_gamma,N_proton)\n",
    "\n",
    "ax.plot(d,Q)\n",
    "\n"
   ]
  },
  {
   "cell_type": "code",
   "execution_count": 13,
   "metadata": {},
   "outputs": [
    {
     "name": "stderr",
     "output_type": "stream",
     "text": [
      "/home/nkorzoun/Software/miniconda3/envs/panoseti/lib/python3.11/site-packages/pandas/core/nanops.py:1016: RuntimeWarning: invalid value encountered in subtract\n",
      "  sqr = _ensure_numeric((avg - values) ** 2)\n"
     ]
    },
    {
     "data": {
      "text/html": [
       "<div>\n",
       "<style scoped>\n",
       "    .dataframe tbody tr th:only-of-type {\n",
       "        vertical-align: middle;\n",
       "    }\n",
       "\n",
       "    .dataframe tbody tr th {\n",
       "        vertical-align: top;\n",
       "    }\n",
       "\n",
       "    .dataframe thead th {\n",
       "        text-align: right;\n",
       "    }\n",
       "</style>\n",
       "<table border=\"1\" class=\"dataframe\">\n",
       "  <thead>\n",
       "    <tr style=\"text-align: right;\">\n",
       "      <th></th>\n",
       "      <th>Event</th>\n",
       "      <th>Telescope</th>\n",
       "      <th>MeanX</th>\n",
       "      <th>StdX</th>\n",
       "      <th>MeanY</th>\n",
       "      <th>StdY</th>\n",
       "      <th>Phi</th>\n",
       "      <th>Size</th>\n",
       "      <th>Length</th>\n",
       "      <th>Width</th>\n",
       "      <th>...</th>\n",
       "      <th>Xcore</th>\n",
       "      <th>Ycore</th>\n",
       "      <th>stdP</th>\n",
       "      <th>TrueAz</th>\n",
       "      <th>TrueZe</th>\n",
       "      <th>TrueXcore</th>\n",
       "      <th>TrueYcore</th>\n",
       "      <th>TrueEnergy</th>\n",
       "      <th>MaxDistance</th>\n",
       "      <th>ThetaSquare</th>\n",
       "    </tr>\n",
       "  </thead>\n",
       "  <tbody>\n",
       "    <tr>\n",
       "      <th>count</th>\n",
       "      <td>5029.000000</td>\n",
       "      <td>5029.000000</td>\n",
       "      <td>5029.000000</td>\n",
       "      <td>5029.000000</td>\n",
       "      <td>5029.000000</td>\n",
       "      <td>5029.000000</td>\n",
       "      <td>5029.000000</td>\n",
       "      <td>5029.000000</td>\n",
       "      <td>5029.000000</td>\n",
       "      <td>5.029000e+03</td>\n",
       "      <td>...</td>\n",
       "      <td>5029.000000</td>\n",
       "      <td>5029.000000</td>\n",
       "      <td>5.029000e+03</td>\n",
       "      <td>5.029000e+03</td>\n",
       "      <td>5029.0</td>\n",
       "      <td>5029.000000</td>\n",
       "      <td>5029.000000</td>\n",
       "      <td>5029.000000</td>\n",
       "      <td>2180.000000</td>\n",
       "      <td>5029.000000</td>\n",
       "    </tr>\n",
       "    <tr>\n",
       "      <th>mean</th>\n",
       "      <td>50309.517001</td>\n",
       "      <td>1.939352</td>\n",
       "      <td>-0.016937</td>\n",
       "      <td>0.287757</td>\n",
       "      <td>0.002297</td>\n",
       "      <td>0.282789</td>\n",
       "      <td>183.063587</td>\n",
       "      <td>3539.021277</td>\n",
       "      <td>0.368161</td>\n",
       "      <td>1.844463e-01</td>\n",
       "      <td>...</td>\n",
       "      <td>-54.283273</td>\n",
       "      <td>-51.268560</td>\n",
       "      <td>inf</td>\n",
       "      <td>1.277000e+01</td>\n",
       "      <td>0.0</td>\n",
       "      <td>-6.848639</td>\n",
       "      <td>-0.829278</td>\n",
       "      <td>47422.254882</td>\n",
       "      <td>1.422496</td>\n",
       "      <td>15.129262</td>\n",
       "    </tr>\n",
       "    <tr>\n",
       "      <th>std</th>\n",
       "      <td>29058.283095</td>\n",
       "      <td>0.808972</td>\n",
       "      <td>0.963177</td>\n",
       "      <td>0.119777</td>\n",
       "      <td>0.935737</td>\n",
       "      <td>0.120386</td>\n",
       "      <td>138.476960</td>\n",
       "      <td>11489.231243</td>\n",
       "      <td>0.143209</td>\n",
       "      <td>3.924431e-02</td>\n",
       "      <td>...</td>\n",
       "      <td>2068.442986</td>\n",
       "      <td>2044.068849</td>\n",
       "      <td>NaN</td>\n",
       "      <td>3.553067e-15</td>\n",
       "      <td>0.0</td>\n",
       "      <td>90.567474</td>\n",
       "      <td>84.657656</td>\n",
       "      <td>80520.276112</td>\n",
       "      <td>0.572323</td>\n",
       "      <td>264.828006</td>\n",
       "    </tr>\n",
       "    <tr>\n",
       "      <th>min</th>\n",
       "      <td>31.000000</td>\n",
       "      <td>1.000000</td>\n",
       "      <td>-3.652490</td>\n",
       "      <td>0.096663</td>\n",
       "      <td>-3.741340</td>\n",
       "      <td>0.117921</td>\n",
       "      <td>0.010616</td>\n",
       "      <td>149.000000</td>\n",
       "      <td>0.152930</td>\n",
       "      <td>7.450580e-09</td>\n",
       "      <td>...</td>\n",
       "      <td>-99999.000000</td>\n",
       "      <td>-99999.000000</td>\n",
       "      <td>0.000000e+00</td>\n",
       "      <td>1.277000e+01</td>\n",
       "      <td>0.0</td>\n",
       "      <td>-319.335000</td>\n",
       "      <td>-435.263000</td>\n",
       "      <td>10013.400000</td>\n",
       "      <td>0.731801</td>\n",
       "      <td>0.000005</td>\n",
       "    </tr>\n",
       "    <tr>\n",
       "      <th>25%</th>\n",
       "      <td>24561.000000</td>\n",
       "      <td>1.000000</td>\n",
       "      <td>-0.737296</td>\n",
       "      <td>0.209053</td>\n",
       "      <td>-0.691689</td>\n",
       "      <td>0.205470</td>\n",
       "      <td>44.246200</td>\n",
       "      <td>982.000000</td>\n",
       "      <td>0.270676</td>\n",
       "      <td>1.583670e-01</td>\n",
       "      <td>...</td>\n",
       "      <td>-68.276100</td>\n",
       "      <td>-61.858900</td>\n",
       "      <td>1.024410e-10</td>\n",
       "      <td>1.277000e+01</td>\n",
       "      <td>0.0</td>\n",
       "      <td>-63.764800</td>\n",
       "      <td>-52.314000</td>\n",
       "      <td>14176.600000</td>\n",
       "      <td>1.020947</td>\n",
       "      <td>0.008792</td>\n",
       "    </tr>\n",
       "    <tr>\n",
       "      <th>50%</th>\n",
       "      <td>49988.000000</td>\n",
       "      <td>2.000000</td>\n",
       "      <td>-0.096801</td>\n",
       "      <td>0.257197</td>\n",
       "      <td>-0.021447</td>\n",
       "      <td>0.250876</td>\n",
       "      <td>271.302000</td>\n",
       "      <td>1600.000000</td>\n",
       "      <td>0.333965</td>\n",
       "      <td>1.843600e-01</td>\n",
       "      <td>...</td>\n",
       "      <td>-12.444600</td>\n",
       "      <td>-3.416710</td>\n",
       "      <td>2.603890e-09</td>\n",
       "      <td>1.277000e+01</td>\n",
       "      <td>0.0</td>\n",
       "      <td>0.866894</td>\n",
       "      <td>1.626040</td>\n",
       "      <td>22512.500000</td>\n",
       "      <td>1.220815</td>\n",
       "      <td>0.034392</td>\n",
       "    </tr>\n",
       "    <tr>\n",
       "      <th>75%</th>\n",
       "      <td>75726.000000</td>\n",
       "      <td>3.000000</td>\n",
       "      <td>0.746171</td>\n",
       "      <td>0.333604</td>\n",
       "      <td>0.722235</td>\n",
       "      <td>0.327693</td>\n",
       "      <td>317.293000</td>\n",
       "      <td>3229.000000</td>\n",
       "      <td>0.422630</td>\n",
       "      <td>2.067440e-01</td>\n",
       "      <td>...</td>\n",
       "      <td>62.805200</td>\n",
       "      <td>72.174000</td>\n",
       "      <td>2.630930e+01</td>\n",
       "      <td>1.277000e+01</td>\n",
       "      <td>0.0</td>\n",
       "      <td>54.953500</td>\n",
       "      <td>52.978700</td>\n",
       "      <td>44577.200000</td>\n",
       "      <td>1.656977</td>\n",
       "      <td>0.138539</td>\n",
       "    </tr>\n",
       "    <tr>\n",
       "      <th>max</th>\n",
       "      <td>99999.000000</td>\n",
       "      <td>3.000000</td>\n",
       "      <td>4.323460</td>\n",
       "      <td>0.995592</td>\n",
       "      <td>3.977230</td>\n",
       "      <td>1.046600</td>\n",
       "      <td>360.000000</td>\n",
       "      <td>445408.000000</td>\n",
       "      <td>1.201690</td>\n",
       "      <td>7.407020e-01</td>\n",
       "      <td>...</td>\n",
       "      <td>12284.000000</td>\n",
       "      <td>5214.890000</td>\n",
       "      <td>inf</td>\n",
       "      <td>1.277000e+01</td>\n",
       "      <td>0.0</td>\n",
       "      <td>390.337000</td>\n",
       "      <td>386.184000</td>\n",
       "      <td>985814.000000</td>\n",
       "      <td>4.698700</td>\n",
       "      <td>7935.567091</td>\n",
       "    </tr>\n",
       "  </tbody>\n",
       "</table>\n",
       "<p>8 rows × 26 columns</p>\n",
       "</div>"
      ],
      "text/plain": [
       "              Event    Telescope        MeanX         StdX        MeanY  \\\n",
       "count   5029.000000  5029.000000  5029.000000  5029.000000  5029.000000   \n",
       "mean   50309.517001     1.939352    -0.016937     0.287757     0.002297   \n",
       "std    29058.283095     0.808972     0.963177     0.119777     0.935737   \n",
       "min       31.000000     1.000000    -3.652490     0.096663    -3.741340   \n",
       "25%    24561.000000     1.000000    -0.737296     0.209053    -0.691689   \n",
       "50%    49988.000000     2.000000    -0.096801     0.257197    -0.021447   \n",
       "75%    75726.000000     3.000000     0.746171     0.333604     0.722235   \n",
       "max    99999.000000     3.000000     4.323460     0.995592     3.977230   \n",
       "\n",
       "              StdY          Phi           Size       Length         Width  \\\n",
       "count  5029.000000  5029.000000    5029.000000  5029.000000  5.029000e+03   \n",
       "mean      0.282789   183.063587    3539.021277     0.368161  1.844463e-01   \n",
       "std       0.120386   138.476960   11489.231243     0.143209  3.924431e-02   \n",
       "min       0.117921     0.010616     149.000000     0.152930  7.450580e-09   \n",
       "25%       0.205470    44.246200     982.000000     0.270676  1.583670e-01   \n",
       "50%       0.250876   271.302000    1600.000000     0.333965  1.843600e-01   \n",
       "75%       0.327693   317.293000    3229.000000     0.422630  2.067440e-01   \n",
       "max       1.046600   360.000000  445408.000000     1.201690  7.407020e-01   \n",
       "\n",
       "       ...         Xcore         Ycore          stdP        TrueAz  TrueZe  \\\n",
       "count  ...   5029.000000   5029.000000  5.029000e+03  5.029000e+03  5029.0   \n",
       "mean   ...    -54.283273    -51.268560           inf  1.277000e+01     0.0   \n",
       "std    ...   2068.442986   2044.068849           NaN  3.553067e-15     0.0   \n",
       "min    ... -99999.000000 -99999.000000  0.000000e+00  1.277000e+01     0.0   \n",
       "25%    ...    -68.276100    -61.858900  1.024410e-10  1.277000e+01     0.0   \n",
       "50%    ...    -12.444600     -3.416710  2.603890e-09  1.277000e+01     0.0   \n",
       "75%    ...     62.805200     72.174000  2.630930e+01  1.277000e+01     0.0   \n",
       "max    ...  12284.000000   5214.890000           inf  1.277000e+01     0.0   \n",
       "\n",
       "         TrueXcore    TrueYcore     TrueEnergy  MaxDistance  ThetaSquare  \n",
       "count  5029.000000  5029.000000    5029.000000  2180.000000  5029.000000  \n",
       "mean     -6.848639    -0.829278   47422.254882     1.422496    15.129262  \n",
       "std      90.567474    84.657656   80520.276112     0.572323   264.828006  \n",
       "min    -319.335000  -435.263000   10013.400000     0.731801     0.000005  \n",
       "25%     -63.764800   -52.314000   14176.600000     1.020947     0.008792  \n",
       "50%       0.866894     1.626040   22512.500000     1.220815     0.034392  \n",
       "75%      54.953500    52.978700   44577.200000     1.656977     0.138539  \n",
       "max     390.337000   386.184000  985814.000000     4.698700  7935.567091  \n",
       "\n",
       "[8 rows x 26 columns]"
      ]
     },
     "execution_count": 13,
     "metadata": {},
     "output_type": "execute_result"
    }
   ],
   "source": [
    "array1.describe()"
   ]
  },
  {
   "cell_type": "code",
   "execution_count": 14,
   "metadata": {},
   "outputs": [
    {
     "name": "stdout",
     "output_type": "stream",
     "text": [
      "gamma: 1872\n",
      "proton: 13\n"
     ]
    },
    {
     "data": {
      "image/png": "[encoded data removed]",
      "text/plain": [
       "<Figure size 640x480 with 1 Axes>"
      ]
     },
     "metadata": {},
     "output_type": "display_data"
    }
   ],
   "source": [
    "fig, axs = plt.subplots()\n",
    "plt.xlabel('THETA')\n",
    "plt.ylabel('POPULATION')\n",
    "\n",
    "cut1=array1[array1[\"MaxDistance\"].values < 2]\n",
    "cut2=array2[array2[\"MaxDistance\"].values < 2]   \n",
    "\n",
    "axs.hist(np.sqrt(cut1.ThetaSquare), alpha=0.3, bins=80, range=(0,1), label='gamma')\n",
    "axs.hist(np.sqrt(cut2.ThetaSquare), alpha=0.3, bins=80, range=(0,1), label='proton')\n",
    "fig.legend(loc=(0.75,0.8))\n",
    "\n",
    "print('gamma:',len(cut1))\n",
    "print('proton:',len(cut2))"
   ]
  },
  {
   "cell_type": "code",
   "execution_count": 15,
   "metadata": {},
   "outputs": [
    {
     "name": "stderr",
     "output_type": "stream",
     "text": [
      "/tmp/ipykernel_1155244/4243486076.py:4: RuntimeWarning: invalid value encountered in scalar divide\n",
      "  return num/np.sqrt(denom)\n",
      "/tmp/ipykernel_1155244/4243486076.py:4: RuntimeWarning: divide by zero encountered in scalar divide\n",
      "  return num/np.sqrt(denom)\n"
     ]
    },
    {
     "data": {
      "text/plain": [
       "[<matplotlib.lines.Line2D at 0x7f62926c88d0>]"
      ]
     },
     "execution_count": 15,
     "metadata": {},
     "output_type": "execute_result"
    },
    {
     "data": {
      "image/png": "[encoded data removed]",
      "text/plain": [
       "<Figure size 640x480 with 1 Axes>"
      ]
     },
     "metadata": {},
     "output_type": "display_data"
    }
   ],
   "source": [
    "theta=np.linspace(0,1,10001)\n",
    "Q=np.zeros(len(theta))\n",
    "\n",
    "fig,ax = plt.subplots()\n",
    "plt.xlabel('Theta cut (degrees)')\n",
    "plt.ylabel('Quality Factor')\n",
    "\n",
    "for i in range(len(theta)):\n",
    "     # theta square cut\n",
    "    cut1=array1[array1['ThetaSquare'] < theta[i]**2]\n",
    "    cut2=array2[array2['ThetaSquare'] < theta[i]**2]\n",
    "\n",
    "    # # max distance cut\n",
    "    # cut1=cut1[cut1[\"MaxDistance\"].values < 2.8]\n",
    "    # cut2=cut2[cut2[\"MaxDistance\"].values < 2.8]    \n",
    "\n",
    "   \n",
    "    # calc Q factor\n",
    "    N_gamma=cut1.Event.nunique()\n",
    "    N_proton=cut2.Event.nunique()\n",
    "\n",
    "    Q[i]=qfactor(N_gamma,N_proton)\n",
    "\n",
    "ax.plot(theta,Q)\n",
    "\n"
   ]
  },
  {
   "cell_type": "code",
   "execution_count": 16,
   "metadata": {},
   "outputs": [
    {
     "name": "stdout",
     "output_type": "stream",
     "text": [
      "gamma: 3535\n",
      "proton: 5\n"
     ]
    },
    {
     "data": {
      "image/png": "[encoded data removed]",
      "text/plain": [
       "<Figure size 640x480 with 1 Axes>"
      ]
     },
     "metadata": {},
     "output_type": "display_data"
    }
   ],
   "source": [
    "fig, axs = plt.subplots()\n",
    "plt.xlabel('MAX DISTANCE')\n",
    "plt.ylabel('POPULATION')\n",
    "\n",
    "cut1=array1[array1[\"ThetaSquare\"].values < 0.32214**2]\n",
    "cut2=array2[array2[\"ThetaSquare\"].values < 0.32214**2]   \n",
    "\n",
    "axs.hist(cut1.MaxDistance, alpha=0.3, bins=80, range=(0,4), label='gamma')\n",
    "axs.hist(cut2.MaxDistance, alpha=0.3, bins=80, range=(0,4), label='proton')\n",
    "fig.legend(loc=(0.75,0.8))\n",
    "\n",
    "print('gamma:',len(cut1))\n",
    "print('proton:',len(cut2))"
   ]
  },
  {
   "cell_type": "code",
   "execution_count": 17,
   "metadata": {},
   "outputs": [
    {
     "name": "stdout",
     "output_type": "stream",
     "text": [
      "===========\n",
      "No cuts:\n",
      "----------\n",
      "gamma: 2180\n",
      "proton: 309\n",
      "Q factor: 1.0\n"
     ]
    }
   ],
   "source": [
    "# no cuts\n",
    "\n",
    "N_gamma=array1.Event.nunique()\n",
    "N_proton=array2.Event.nunique()\n",
    "\n",
    "print('===========')\n",
    "print('No cuts:')\n",
    "print('----------')\n",
    "print('gamma:',N_gamma)\n",
    "print('proton:',N_proton)\n",
    "print('Q factor:', qfactor(N_gamma,N_proton))"
   ]
  },
  {
   "cell_type": "code",
   "execution_count": 18,
   "metadata": {},
   "outputs": [
    {
     "name": "stdout",
     "output_type": "stream",
     "text": [
      "===========\n",
      "Max Distance < 2:\n",
      "----------\n",
      "gamma: 1872\n",
      "proton: 13\n",
      "Q factor: 4.186556092401245\n"
     ]
    }
   ],
   "source": [
    "# max dist cut\n",
    "cut1=array1[array1[\"MaxDistance\"].values < 2]\n",
    "cut2=array2[array2[\"MaxDistance\"].values < 2]  \n",
    "\n",
    "N_gamma=cut1.Event.nunique()\n",
    "N_proton=cut2.Event.nunique()\n",
    "\n",
    "print('===========')\n",
    "print('Max Distance < 2:')\n",
    "print('----------')\n",
    "print('gamma:',N_gamma)\n",
    "print('proton:',N_proton)\n",
    "print('Q factor:', qfactor(N_gamma,N_proton))"
   ]
  },
  {
   "cell_type": "code",
   "execution_count": 19,
   "metadata": {},
   "outputs": [
    {
     "name": "stdout",
     "output_type": "stream",
     "text": [
      "===========\n",
      "Theta Square cut:\n",
      "----------\n",
      "gamma: 1481\n",
      "proton: 2\n",
      "Q factor: 8.44428352614019\n"
     ]
    }
   ],
   "source": [
    "# theta square cut\n",
    "cut1=array1[array1['ThetaSquare'] < 0.32214**2]\n",
    "cut2=array2[array2['ThetaSquare'] < 0.32214**2]\n",
    "\n",
    "N_gamma=cut1.Event.nunique()\n",
    "N_proton=cut2.Event.nunique()\n",
    "\n",
    "print('===========')\n",
    "print('Theta Square cut:')\n",
    "print('----------')\n",
    "print('gamma:',N_gamma)\n",
    "print('proton:',N_proton)\n",
    "print('Q factor:', qfactor(N_gamma,N_proton))"
   ]
  },
  {
   "cell_type": "code",
   "execution_count": 20,
   "metadata": {},
   "outputs": [
    {
     "name": "stdout",
     "output_type": "stream",
     "text": [
      "===========\n",
      "Both Cuts:\n",
      "----------\n",
      "gamma: 1288\n",
      "proton: 1\n",
      "Q factor: 10.385767812222968\n"
     ]
    }
   ],
   "source": [
    "# Both\n",
    "cut1=array1[array1[\"MaxDistance\"].values < 2]\n",
    "cut2=array2[array2[\"MaxDistance\"].values < 2]  \n",
    "\n",
    "cut1=cut1[cut1['ThetaSquare'] < 0.32214**2]\n",
    "cut2=cut2[cut2['ThetaSquare'] < 0.32214**2]\n",
    "\n",
    "N_gamma=cut1.Event.nunique()\n",
    "N_proton=cut2.Event.nunique()\n",
    "\n",
    "print('===========')\n",
    "print('Both Cuts:')\n",
    "print('----------')\n",
    "print('gamma:',N_gamma)\n",
    "print('proton:',N_proton)\n",
    "print('Q factor:', qfactor(N_gamma,N_proton))"
   ]
  },
  {
   "cell_type": "markdown",
   "metadata": {},
   "source": [
    "keeps 60% gammas, rejects 99.9% protons"
   ]
  }
 ],
 "metadata": {
  "kernelspec": {
   "display_name": "panoseti",
   "language": "python",
   "name": "python3"
  },
  "language_info": {
   "codemirror_mode": {
    "name": "ipython",
    "version": 3
   },
   "file_extension": ".py",
   "mimetype": "text/x-python",
   "name": "python",
   "nbconvert_exporter": "python",
   "pygments_lexer": "ipython3",
   "version": "3.11.9"
  }
 },
 "nbformat": 4,
 "nbformat_minor": 2
}
